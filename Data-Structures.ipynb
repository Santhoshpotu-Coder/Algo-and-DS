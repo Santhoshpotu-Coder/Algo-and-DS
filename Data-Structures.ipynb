{
 "cells": [
  {
   "cell_type": "code",
   "execution_count": 2,
   "metadata": {},
   "outputs": [
    {
     "name": "stdout",
     "output_type": "stream",
     "text": [
      "10 -- 1 -- 2 -- 3 -- 4 -- \n",
      "post deletion\n",
      "1 -- 2 -- 3 -- 4 -- "
     ]
    }
   ],
   "source": [
    "# Linked List\n",
    "\n",
    "class Node:\n",
    "    def __init__(self,data):\n",
    "        self.data = data\n",
    "        self.next = None\n",
    "        self.prev = None\n",
    "        \n",
    "\n",
    "class Linkedlist_head:\n",
    "    def __init__(self):\n",
    "        self.head = None\n",
    "        \n",
    "    \n",
    "    def pushfront(self,new_data):  \n",
    "        new_node = Node(new_data)  \n",
    "        new_node.next = self.head\n",
    "        new_node.prev = None\n",
    "        self.head = new_node\n",
    "    \n",
    "    \n",
    "    def insertafter(self,prev_node,nodeval):  \n",
    "        new_node = Node(nodeval)\n",
    "        new_node.next = prev_node.next\n",
    "        new_node.prev = prev_node\n",
    "        prev_node.next = new_node\n",
    "    \n",
    "    \n",
    "    def append(self,new_data):\n",
    "        if self.head is None:  \n",
    "            self.head = Node(new_data)\n",
    "            return \n",
    "        \n",
    "        last = self.head\n",
    "        while last.next != None: \n",
    "            last = last.next\n",
    "            \n",
    "        last.next = Node(new_data)    \n",
    "       \n",
    "    \n",
    "    def deleteNode(self,key):   \n",
    "        temp = self.head\n",
    "        if temp.data == key:\n",
    "            self.head = temp.next\n",
    "            temp = None\n",
    "            return\n",
    "            \n",
    "#         while(temp is not None):\n",
    "#             if temp.data == key:\n",
    "#                 prev = temp\n",
    "#                 temp = temp.next\n",
    "       \n",
    "#         prev.next = temp.next\n",
    "#         temp = None\n",
    "                     \n",
    "    \n",
    "    def printlist(self):\n",
    "        temp = self.head\n",
    "        while temp:\n",
    "            print(temp.data ,end=' -- ')\n",
    "            temp = temp.next\n",
    "        return \n",
    " \n",
    "\n",
    "\n",
    "headlink = Linkedlist_head()\n",
    "headlink.append(1)\n",
    "\n",
    "headlink.pushfront(10)\n",
    "\n",
    "\n",
    "headlink.append(2)\n",
    "headlink.append(3)\n",
    "headlink.append(4)\n",
    "\n",
    "# headlink.insertafter(headlink.head,100)\n",
    "# headlink.append(4)\n",
    "\n",
    "\n",
    "headlink.printlist()\n",
    "\n",
    "headlink.deleteNode(10)\n",
    "print('\\npost deletion')\n",
    "headlink.printlist()\n",
    "\n",
    "\n",
    "\n",
    "\n",
    "\n"
   ]
  },
  {
   "cell_type": "code",
   "execution_count": null,
   "metadata": {},
   "outputs": [],
   "source": []
  },
  {
   "cell_type": "code",
   "execution_count": null,
   "metadata": {},
   "outputs": [],
   "source": []
  },
  {
   "cell_type": "code",
   "execution_count": 2,
   "metadata": {},
   "outputs": [
    {
     "name": "stdout",
     "output_type": "stream",
     "text": [
      "[1, 7, 6, 12, 15, 18]\n"
     ]
    }
   ],
   "source": [
    "arr = [1,18,7,6,15,12]\n",
    "pivot = len(arr)-1\n",
    "\n",
    "j = -1\n",
    "for i in range(0,len(arr)):\n",
    "    if arr[i] < arr[pivot]:\n",
    "        j += 1\n",
    "#         print(i,j)\n",
    "#         temp = 0\n",
    "#         temp = arr[i]\n",
    "#         arr[i] = arr[j]\n",
    "#         arr[j] = temp\n",
    "               \n",
    "        arr[i],arr[j] = arr[j],arr[i]\n",
    "\n",
    "arr[j+1],arr[pivot] = arr[pivot],arr[j+1]        \n",
    "         \n",
    "print(arr)\n"
   ]
  },
  {
   "cell_type": "code",
   "execution_count": null,
   "metadata": {},
   "outputs": [],
   "source": []
  },
  {
   "cell_type": "code",
   "execution_count": 31,
   "metadata": {},
   "outputs": [
    {
     "data": {
      "text/plain": [
       "([5, 6, 10], 10)"
      ]
     },
     "execution_count": 31,
     "metadata": {},
     "output_type": "execute_result"
    }
   ],
   "source": [
    "class Stack:\n",
    "    def __init__(self):\n",
    "        self.stackval = []\n",
    "        \n",
    "        \n",
    "    def insert(self,value):\n",
    "        self.stackval.append(value)\n",
    "        return self.stackval\n",
    "        \n",
    "    def peek(self):\n",
    "        return self.stackval , self.stackval[-1]\n",
    "\n",
    "stack = Stack()\n",
    "stack.insert(5)\n",
    "stack.insert(6)\n",
    "stack.insert(10)\n",
    "\n",
    "stack.peek()\n",
    "\n",
    "        "
   ]
  },
  {
   "cell_type": "code",
   "execution_count": null,
   "metadata": {},
   "outputs": [],
   "source": []
  },
  {
   "cell_type": "code",
   "execution_count": 6,
   "metadata": {},
   "outputs": [
    {
     "data": {
      "text/plain": [
       "([10, 111, 11111], 10)"
      ]
     },
     "execution_count": 6,
     "metadata": {},
     "output_type": "execute_result"
    }
   ],
   "source": [
    "class Queue:\n",
    "    def __init__(self):\n",
    "        self.q = []\n",
    "        \n",
    "    def insert(self,val):\n",
    "        self.q.append(val)\n",
    "        return self.q\n",
    "    \n",
    "    def peek(self):\n",
    "        return self.q , self.q[0]\n",
    "\n",
    "qq = Queue()\n",
    "qq.insert(10)\n",
    "qq.insert(111)\n",
    "qq.insert(11111)\n",
    "\n",
    "qq.peek()    "
   ]
  },
  {
   "cell_type": "code",
   "execution_count": null,
   "metadata": {},
   "outputs": [],
   "source": []
  },
  {
   "cell_type": "code",
   "execution_count": 34,
   "metadata": {},
   "outputs": [
    {
     "name": "stdout",
     "output_type": "stream",
     "text": [
      "============\n",
      "20 - 25 - 30 - 40 - 50 - 60 - "
     ]
    }
   ],
   "source": [
    "# Binary Search Tree ---\n",
    "class Node:\n",
    "    def __init__(self,data):\n",
    "        self.data = data\n",
    "        self.right = None\n",
    "        self.left = None\n",
    "        \n",
    "# class BST:\n",
    "#     def __init__(self):\n",
    "#         self.root = None\n",
    "\n",
    "def push(root,new_data):\n",
    "    if root == None:    \n",
    "        root = Node(new_data)\n",
    "        return\n",
    "\n",
    "    else:\n",
    "        if new_data <= root.data:\n",
    "            if root.left == None: \n",
    "                root.left = Node(new_data)\n",
    "            else:\n",
    "                return push(root.left,new_data)\n",
    "\n",
    "        else:\n",
    "            if root.right == None:\n",
    "                root.right = Node(new_data)\n",
    "            else:\n",
    "                return push(root.right,new_data)\n",
    "                \n",
    "\n",
    "# def print_preorder(root):\n",
    "#     if root != None:\n",
    "#         print(root.data )\n",
    "#         printBST(root.left)\n",
    "#         printBST(root.right)   \n",
    "#     return \n",
    "\n",
    "def inorder_print(root):\n",
    "    if root:\n",
    "#         print('recursion--',root.data,'----')\n",
    "        inorder_print(root.left)\n",
    "        print(root.data,end=' - ')\n",
    "        inorder_print(root.right) \n",
    "#         print('right====')\n",
    "    return \n",
    "\n",
    "root = Node(50)\n",
    "push(root,30) \n",
    "push(root,20) \n",
    "push(root,25) \n",
    "push(root,40)\n",
    "push(root,60)\n",
    "\n",
    "# print(root.right.data)\n",
    "# print_preorder(root)\n",
    "\n",
    "print('============')\n",
    "inorder_print(root)\n",
    "\n",
    "# print('------------')\n",
    "# print_postorder(root)"
   ]
  },
  {
   "cell_type": "code",
   "execution_count": null,
   "metadata": {},
   "outputs": [],
   "source": []
  },
  {
   "cell_type": "code",
   "execution_count": 1,
   "metadata": {},
   "outputs": [
    {
     "name": "stdout",
     "output_type": "stream",
     "text": [
      "5 5\n",
      "5 5\n",
      "7 3\n",
      "3 7\n"
     ]
    },
    {
     "data": {
      "text/plain": [
       "{1: 1, 5: 5, 7: 7, 3: 3}"
      ]
     },
     "execution_count": 1,
     "metadata": {},
     "output_type": "execute_result"
    }
   ],
   "source": [
    "def arraytwosum(list1,target):\n",
    "    dict1 = dict()\n",
    "    for x in list1:\n",
    "        dict1[x] = x\n",
    "    \n",
    "    for i in list1:\n",
    "        var = target - i\n",
    "        if var in list1:\n",
    "            print(i,var)\n",
    "#     for i in range(len(list1)-1):\n",
    "#         for j in range(i+1,len(list1)):\n",
    "#             var = list1[i] + list1[j]\n",
    "#             exactval = target - var\n",
    "#             if exactval in dict1 and exactval != list1[j] and exactval != list1[i] :  \n",
    "#                 print(list1[i],list1[j],exactval)\n",
    "    return dict1           \n",
    "                \n",
    "arraytwosum([1,5,5,7,3],10)                "
   ]
  },
  {
   "cell_type": "code",
   "execution_count": null,
   "metadata": {},
   "outputs": [],
   "source": []
  },
  {
   "cell_type": "code",
   "execution_count": 6,
   "metadata": {
    "scrolled": false
   },
   "outputs": [
    {
     "name": "stdout",
     "output_type": "stream",
     "text": [
      "4   ----- got it ----- man-- SKR --bbbbb  \n",
      "\n"
     ]
    }
   ],
   "source": [
    "x = 'potu-santosh-kumar-reddy' \n",
    "y = x.replace('-', ' // ')\n",
    "z = y.replace('//', '-_-@')\n",
    "\n",
    "for i in range(0,5,2):\n",
    "    if i == 4:\n",
    "        break\n",
    "print(i,  '  ----- got it ----- man-- SKR --bbbbb  \\n')\n",
    "\n",
    "# for k in range(1,4):\n",
    "#     print(k)\n",
    "    \n",
    "    \n",
    "# print(y, '---- _/\\_ _/\\_ _/\\_ _/\\_  \\n')\n",
    "# print(z, '-------------=========')"
   ]
  },
  {
   "cell_type": "code",
   "execution_count": 15,
   "metadata": {},
   "outputs": [
    {
     "name": "stdout",
     "output_type": "stream",
     "text": [
      "bbbbbb\n"
     ]
    }
   ],
   "source": [
    "class animal:\n",
    "    def __init__(self,name,breed):\n",
    "        self.desc = name\n",
    "        self.brand = breed\n",
    "        \n",
    "        \n",
    "# a1 = animal(\"red\",\"bb\")    \n",
    "print(animal(\"red\",\"bbbbbb\").brand )\n",
    "    \n",
    "    \n",
    "    "
   ]
  },
  {
   "cell_type": "code",
   "execution_count": null,
   "metadata": {},
   "outputs": [],
   "source": []
  },
  {
   "cell_type": "code",
   "execution_count": null,
   "metadata": {},
   "outputs": [],
   "source": []
  }
 ],
 "metadata": {
  "kernelspec": {
   "display_name": "Python 3",
   "language": "python",
   "name": "python3"
  },
  "language_info": {
   "codemirror_mode": {
    "name": "ipython",
    "version": 3
   },
   "file_extension": ".py",
   "mimetype": "text/x-python",
   "name": "python",
   "nbconvert_exporter": "python",
   "pygments_lexer": "ipython3",
   "version": "3.7.3"
  }
 },
 "nbformat": 4,
 "nbformat_minor": 2
}
