{
 "cells": [
  {
   "cell_type": "code",
   "execution_count": 29,
   "metadata": {},
   "outputs": [
    {
     "name": "stdout",
     "output_type": "stream",
     "text": [
      "----\n",
      "1--> 2--> 3--> None\n",
      "3--> 2--> 1--> None\n"
     ]
    }
   ],
   "source": [
    "class Node:\n",
    "    def __init__(self,data):\n",
    "        self.data = data\n",
    "        self.next = None        \n",
    "\n",
    "class Linkedlist_head:\n",
    "    def __init__(self):\n",
    "        self.head = None\n",
    "        \n",
    "        \n",
    "list = Linkedlist_head()\n",
    " \n",
    "\n",
    "def append(node):\n",
    "    if list.head:\n",
    "        temp = list.head\n",
    "        while(temp.next):\n",
    "            #print('loop')\n",
    "            temp = temp.next\n",
    "        temp.next = Node(node)\n",
    "    else:\n",
    "        list.head = Node(node)\n",
    " \n",
    "    \n",
    "append(1)\n",
    "append(2)\n",
    "append(3)\n",
    "\n",
    "print('----')\n",
    "\n",
    "def printlist(head):\n",
    "    temp = head\n",
    "    while(temp):\n",
    "        print(temp.data, end= '--> ')\n",
    "        temp = temp.next\n",
    "    print(None)\n",
    "\n",
    "printlist(list.head) \n",
    "\n",
    "def reverse(start):\n",
    "    if start is None or start.next is None:\n",
    "        return start\n",
    "    rest = reverse(start.next)\n",
    "    start.next.next = start\n",
    "    start.next = None\n",
    "    return rest\n",
    "    #print(start.next.next)\n",
    "\n",
    "\n",
    "list.head = reverse(list.head)\n",
    "\n",
    "printlist(list.head)\n"
   ]
  },
  {
   "cell_type": "code",
   "execution_count": null,
   "metadata": {},
   "outputs": [],
   "source": []
  },
  {
   "cell_type": "code",
   "execution_count": 30,
   "metadata": {},
   "outputs": [
    {
     "name": "stdout",
     "output_type": "stream",
     "text": [
      "10 -->> 20 -->> 30 -->> 40 -->> 50 -->> None\n",
      "50 -->> 40 -->> 30 -->> 20 -->> 10 -->> None\n",
      "10 -->> 20 -->> 30 -->> 40 -->> 50 -->> None\n"
     ]
    }
   ],
   "source": [
    "class Node:\n",
    "    def __init__(self,data):\n",
    "        self.data = data\n",
    "        self.next = None      \n",
    "        \n",
    "start = Node(10)\n",
    "#print(start.data)\n",
    "#start.next = Node(200)\n",
    "\n",
    "def insert(node,start):\n",
    "    #start = starter\n",
    "    while(start.next != None):\n",
    "        start = start.next          \n",
    "    start.next = Node(node)\n",
    "    #print(start.data)\n",
    "        \n",
    "insert(20,start)  \n",
    "insert(30,start)         \n",
    "insert(40,start) \n",
    "insert(50,start)         \n",
    "\n",
    "#print('---')\n",
    "    \n",
    "def printnodes(start):\n",
    "    while(start != None):\n",
    "        print(start.data, end=' -->> ')\n",
    "        start = start.next\n",
    "    print(None)\n",
    "    \n",
    "printnodes(start)\n",
    "\n",
    "# Reverse using Recursion\n",
    "def reverse(start):\n",
    "    if start is None or start.next is None:\n",
    "        return start\n",
    "    ret = reverse(start.next)\n",
    "    start.next.next = start\n",
    "    start.next = None\n",
    "    return ret\n",
    "         \n",
    "start = reverse(start)\n",
    "printnodes(start)\n",
    "\n",
    "\n",
    "#Reverse using Iteration\n",
    "def reverse_iter(start):\n",
    "    prevnode = None\n",
    "    while start!= None:\n",
    "        newstart = start.next\n",
    "        start.next = prevnode\n",
    "        prevnode = start  \n",
    "        start = newstart       \n",
    "    return prevnode\n",
    "    \n",
    "start = reverse_iter(start)\n",
    "printnodes(start) \n",
    "\n"
   ]
  },
  {
   "cell_type": "code",
   "execution_count": null,
   "metadata": {},
   "outputs": [],
   "source": []
  },
  {
   "cell_type": "code",
   "execution_count": null,
   "metadata": {},
   "outputs": [],
   "source": []
  }
 ],
 "metadata": {
  "kernelspec": {
   "display_name": "Python 3",
   "language": "python",
   "name": "python3"
  },
  "language_info": {
   "codemirror_mode": {
    "name": "ipython",
    "version": 3
   },
   "file_extension": ".py",
   "mimetype": "text/x-python",
   "name": "python",
   "nbconvert_exporter": "python",
   "pygments_lexer": "ipython3",
   "version": "3.7.3"
  }
 },
 "nbformat": 4,
 "nbformat_minor": 2
}
