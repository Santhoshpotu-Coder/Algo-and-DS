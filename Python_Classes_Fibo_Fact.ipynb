{
 "cells": [
  {
   "cell_type": "code",
   "execution_count": 3,
   "metadata": {},
   "outputs": [
    {
     "name": "stdout",
     "output_type": "stream",
     "text": [
      "2019\n"
     ]
    }
   ],
   "source": [
    "class Test:\n",
    "    def __init__(self,name,number):\n",
    "        self.fullname = name\n",
    "        self.age = number\n",
    "    def superman(self):\n",
    "        return self.fullname + ' --- ' +self.age\n",
    "\n",
    "class Testsub(Test): \n",
    "    def __init__(self,name,year):\n",
    "        super().__init__(name,year)\n",
    "        self.marks = year\n",
    "        \n",
    "    def superman(self):\n",
    "        return self.age\n",
    "\n",
    "test1 = Testsub('reddy',2019)\n",
    "# print(test1.marks)\n",
    "print(test1.superman() )\n",
    "# print(test1.testing() )\n",
    "      "
   ]
  },
  {
   "cell_type": "code",
   "execution_count": null,
   "metadata": {},
   "outputs": [],
   "source": []
  },
  {
   "cell_type": "code",
   "execution_count": 6,
   "metadata": {},
   "outputs": [
    {
     "name": "stdout",
     "output_type": "stream",
     "text": [
      "reddy\n",
      "20\n"
     ]
    }
   ],
   "source": [
    "class Test:\n",
    "    def __init__(potu,name,number):\n",
    "        potu.fullname = name\n",
    "        potu.age = number\n",
    "    def superman(self):\n",
    "        return self.fullname \n",
    "\n",
    "test1 = Test('reddy',20)\n",
    "\n",
    "print(test1.superman())\n",
    "print(test1.age)\n"
   ]
  },
  {
   "cell_type": "code",
   "execution_count": 4,
   "metadata": {},
   "outputs": [
    {
     "data": {
      "text/plain": [
       "'amesPaseC'"
      ]
     },
     "execution_count": 4,
     "metadata": {},
     "output_type": "execute_result"
    }
   ],
   "source": [
    "import re\n",
    "\n",
    "def convert(s):\n",
    "    res = re.sub(r'([A-Z])([a-z]+)',r'\\2\\1', s)\n",
    "    return res\n",
    "\n",
    "m = re.search('(\\w)(\\d+)','ab123')\n",
    "# print(m)\n",
    "m.groups()\n",
    "# m.group(2)\n",
    "\n",
    "# pattern = '(?P<year>\\d{4})-(?P<month>\\d{2})-(?P<day>\\d{2})'\n",
    "# m = re.search(pattern, '2016-01-01')\n",
    "# m.group('year')\n",
    "# m.groups()\n",
    "\n",
    "convert('PamesCase')"
   ]
  },
  {
   "cell_type": "code",
   "execution_count": null,
   "metadata": {},
   "outputs": [],
   "source": []
  },
  {
   "cell_type": "code",
   "execution_count": 7,
   "metadata": {},
   "outputs": [
    {
     "data": {
      "text/plain": [
       "(True, 2)"
      ]
     },
     "execution_count": 7,
     "metadata": {},
     "output_type": "execute_result"
    }
   ],
   "source": [
    "def palindrome(num):\n",
    "#     print(len(str(num)))\n",
    "    \n",
    "    num10 = int(num%10)\n",
    "    num0 = int(num/10)\n",
    "    new_num = 10*num10 + num0\n",
    "#     print(new_num)\n",
    "\n",
    "    if num == new_num:\n",
    "        return True, len(str(num))\n",
    "#     else:\n",
    "    print('dfgh')\n",
    "    return False\n",
    "        \n",
    "palindrome(22) "
   ]
  },
  {
   "cell_type": "code",
   "execution_count": null,
   "metadata": {},
   "outputs": [],
   "source": []
  },
  {
   "cell_type": "code",
   "execution_count": 10,
   "metadata": {},
   "outputs": [
    {
     "name": "stdout",
     "output_type": "stream",
     "text": [
      "4\n",
      "0\n",
      "-1\n"
     ]
    },
    {
     "data": {
      "text/plain": [
       "(9, -1)"
      ]
     },
     "execution_count": 10,
     "metadata": {},
     "output_type": "execute_result"
    }
   ],
   "source": [
    "def maxima(nums):\n",
    "    maxima = nums[0]\n",
    "    minima = nums[0]\n",
    "    for i in range(1,len(nums)):\n",
    "        if  nums[i] > maxima:\n",
    "#             print('max',i)\n",
    "            maxima = nums[i]\n",
    "#             print(maxima)\n",
    "            \n",
    "        if nums[i] < minima:\n",
    "#             print('min',i)\n",
    "            minima = nums[i]\n",
    "            print(minima)\n",
    "            \n",
    "    return maxima,minima\n",
    "\n",
    "maxima([8,4,9,0,-1])"
   ]
  },
  {
   "cell_type": "code",
   "execution_count": null,
   "metadata": {},
   "outputs": [],
   "source": []
  },
  {
   "cell_type": "code",
   "execution_count": 15,
   "metadata": {},
   "outputs": [
    {
     "data": {
      "text/plain": [
       "120"
      ]
     },
     "execution_count": 15,
     "metadata": {},
     "output_type": "execute_result"
    }
   ],
   "source": [
    "# using recursion  Big O -- T(n) , S(n) -- not a good solution\n",
    "    \n",
    "def factorial(n):\n",
    "#     print('rec')\n",
    "    array = [0]*len(str(n))\n",
    "    if  n==1:\n",
    "#         print('loop')\n",
    "        return 1\n",
    "#     print('loop1')\n",
    "    return n * factorial(n-1)\n",
    "    \n",
    "factorial(5)"
   ]
  },
  {
   "cell_type": "code",
   "execution_count": null,
   "metadata": {},
   "outputs": [],
   "source": []
  },
  {
   "cell_type": "code",
   "execution_count": 24,
   "metadata": {},
   "outputs": [
    {
     "data": {
      "text/plain": [
       "5"
      ]
     },
     "execution_count": 24,
     "metadata": {},
     "output_type": "execute_result"
    }
   ],
   "source": [
    "# using recursion Big O -- O(2^n)\n",
    "# here we are recalculating same values again and again like fib(3) fib(2) etc...\n",
    "\n",
    "def fib(n):\n",
    "#     print(n)\n",
    "    if n==1 or n==2:\n",
    "        return 1\n",
    "    else:\n",
    "        return fib(n-1)+ fib(n-2)\n",
    "fib(5)       "
   ]
  },
  {
   "cell_type": "code",
   "execution_count": null,
   "metadata": {},
   "outputs": [],
   "source": []
  },
  {
   "cell_type": "code",
   "execution_count": 27,
   "metadata": {},
   "outputs": [
    {
     "name": "stdout",
     "output_type": "stream",
     "text": [
      "2\n",
      "[1, 1]\n"
     ]
    },
    {
     "data": {
      "text/plain": [
       "1"
      ]
     },
     "execution_count": 27,
     "metadata": {},
     "output_type": "execute_result"
    }
   ],
   "source": [
    "# using dynamic programming ---- best approach  Big O -- O(n)\n",
    "    \n",
    "def fibo(n):\n",
    "    array = [0]*n\n",
    "    array[0] = 1\n",
    "    array[1] = 1\n",
    "    for i in range(3,n):\n",
    "        array[i] = array[i-1] +array[i-2]\n",
    "        \n",
    "    print(array)\n",
    "    return array[n-1]\n",
    "\n",
    "fibo(int(input()))\n"
   ]
  },
  {
   "cell_type": "code",
   "execution_count": null,
   "metadata": {},
   "outputs": [],
   "source": []
  },
  {
   "cell_type": "code",
   "execution_count": null,
   "metadata": {},
   "outputs": [],
   "source": []
  }
 ],
 "metadata": {
  "kernelspec": {
   "display_name": "Python 3",
   "language": "python",
   "name": "python3"
  },
  "language_info": {
   "codemirror_mode": {
    "name": "ipython",
    "version": 3
   },
   "file_extension": ".py",
   "mimetype": "text/x-python",
   "name": "python",
   "nbconvert_exporter": "python",
   "pygments_lexer": "ipython3",
   "version": "3.7.3"
  }
 },
 "nbformat": 4,
 "nbformat_minor": 2
}
