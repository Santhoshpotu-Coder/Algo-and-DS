{
 "cells": [
  {
   "cell_type": "code",
   "execution_count": 3,
   "metadata": {},
   "outputs": [
    {
     "name": "stdout",
     "output_type": "stream",
     "text": [
      "2 loop\n",
      "2 loop\n",
      "2 loop\n",
      "2 loop\n",
      "2 loop\n",
      "3 loop\n",
      "3 loop\n",
      "3 loop\n",
      "3 loop\n",
      "3 loop\n",
      "3 loop\n",
      "count-- 5\n",
      "count1-- 6\n",
      "[0, 0, 0, 0, 0, 0]\n"
     ]
    },
    {
     "data": {
      "text/plain": [
       "0"
      ]
     },
     "execution_count": 3,
     "metadata": {},
     "output_type": "execute_result"
    }
   ],
   "source": [
    "# time complexity may be O(nlogn) -- not sure  ---complexity is n+n+ = 3n = n\n",
    "\n",
    "def sum67(nums):\n",
    "    result = 0\n",
    "    count = 0\n",
    "    count1 = 0\n",
    "    for i in range(0, len(nums)):\n",
    "#         print('1 loop')\n",
    "        if nums[i] == 6:\n",
    "            for j in range(i+1, len(nums)):\n",
    "                count += 1 \n",
    "                print('2 loop')\n",
    "                if nums[j] == 7:\n",
    "                    for k in range(i,j+1):\n",
    "                        count1 += 1\n",
    "                        print('3 loop') \n",
    "                        nums[k]=0\n",
    "                    \n",
    "                    break\n",
    "\n",
    "        result += nums[i]     \n",
    "    print('count--',count)   \n",
    "    print('count1--',count1)    \n",
    "\n",
    "    print(nums)\n",
    "    return result\n",
    "\n",
    "sum67([6,1,2,1,1,7])"
   ]
  },
  {
   "cell_type": "code",
   "execution_count": null,
   "metadata": {},
   "outputs": [],
   "source": []
  },
  {
   "cell_type": "code",
   "execution_count": 98,
   "metadata": {},
   "outputs": [
    {
     "name": "stdout",
     "output_type": "stream",
     "text": [
      "loop two--- 3\n",
      "[10, 3, 21, 9]\n",
      "loop two--- 9\n",
      "[10, 3, 9, 21]\n",
      "loop two--- 3\n",
      "[3, 10, 9, 21]\n",
      "loop two--- 9\n",
      "[3, 9, 10, 21]\n",
      "count-- 12\n"
     ]
    },
    {
     "data": {
      "text/plain": [
       "[3, 9, 10, 21]"
      ]
     },
     "execution_count": 98,
     "metadata": {},
     "output_type": "execute_result"
    }
   ],
   "source": [
    "# sorting array --- bubble sort --- Big(O) => t(O)= O(n^2)  and s(O) = O(n)\n",
    "def arraysort(nums):\n",
    "    count = 0\n",
    "    for i in range(0,len(nums)):\n",
    "#         print('loop one--',nums[i])\n",
    "        for i in range(0,len(nums)-1):\n",
    "#             print('looping')\n",
    "            count = count +1\n",
    "            if nums[i] > nums[i+1]:\n",
    "                print('loop two---', nums[i+1])\n",
    "                temp = 0\n",
    "                temp = nums[i]\n",
    "                nums[i] = nums[i+1]\n",
    "                nums[i+1] = temp\n",
    "                print(nums)\n",
    "    print('count--',count)            \n",
    "    return nums           \n",
    " \n",
    "arraysort([10,21,3,9])                    "
   ]
  },
  {
   "cell_type": "code",
   "execution_count": null,
   "metadata": {},
   "outputs": [],
   "source": []
  },
  {
   "cell_type": "code",
   "execution_count": 16,
   "metadata": {},
   "outputs": [
    {
     "name": "stdout",
     "output_type": "stream",
     "text": [
      "2\n",
      "3\n"
     ]
    },
    {
     "data": {
      "text/plain": [
       "2"
      ]
     },
     "execution_count": 16,
     "metadata": {},
     "output_type": "execute_result"
    }
   ],
   "source": [
    "# Linear search Big-O  O(n)\n",
    "\n",
    "def Lsearch(nums,target):\n",
    "    count = 0\n",
    "    position = 0\n",
    "    for i in range(len(nums)):\n",
    "#         print('loop')\n",
    "        if nums[i] == target:\n",
    "            count += 1 \n",
    "            position = i+1\n",
    "            print(position)\n",
    "    return count\n",
    "        \n",
    "#     return count\n",
    "    \n",
    "    \n",
    "\n",
    "Lsearch([1,2,2,4,5,5], 2)\n"
   ]
  },
  {
   "cell_type": "code",
   "execution_count": null,
   "metadata": {},
   "outputs": [],
   "source": []
  },
  {
   "cell_type": "code",
   "execution_count": 32,
   "metadata": {},
   "outputs": [
    {
     "name": "stdout",
     "output_type": "stream",
     "text": [
      "mid-- 2\n",
      "mid-- 3\n",
      "mid-- 4\n"
     ]
    },
    {
     "data": {
      "text/plain": [
       "'Number doesnot exist in the List'"
      ]
     },
     "execution_count": 32,
     "metadata": {},
     "output_type": "execute_result"
    }
   ],
   "source": [
    "# binary search using Recursion-- least case Big O  --- O(logn)\n",
    "\n",
    "def Bsearch(nums,lower,upper,target):\n",
    "    \n",
    "    if lower <= upper:\n",
    "        \n",
    "        mid = int((lower + upper)/2)\n",
    "        print('mid--', mid)\n",
    "\n",
    "        if nums[mid] == target:\n",
    "#             print('equal')\n",
    "            return mid,nums[mid]\n",
    "\n",
    "        elif target > nums[mid] :\n",
    "            lower = mid + 1\n",
    "#             print('greater')\n",
    "            return Bsearch(nums, lower,upper, target)\n",
    "\n",
    "        else:\n",
    "            upper = mid - 1\n",
    "#             print('lower')\n",
    "            return Bsearch(nums, lower, upper, target)\n",
    "\n",
    "    else:\n",
    "        return 'Number doesnot exist in the List'     \n",
    "        \n",
    "\n",
    "    \n",
    "Bsearch([2,3,4,10,40],0,4, 41)\n",
    "\n"
   ]
  },
  {
   "cell_type": "code",
   "execution_count": null,
   "metadata": {},
   "outputs": [],
   "source": []
  },
  {
   "cell_type": "code",
   "execution_count": 33,
   "metadata": {},
   "outputs": [
    {
     "name": "stdout",
     "output_type": "stream",
     "text": [
      "mid-value = 3\n",
      "mid-value = 1\n",
      "mid-value = 0\n"
     ]
    },
    {
     "data": {
      "text/plain": [
       "('mid value=', 0)"
      ]
     },
     "execution_count": 33,
     "metadata": {},
     "output_type": "execute_result"
    }
   ],
   "source": [
    "# binary search using Iteration -- least case Big O  --- O(nlogn)\n",
    "\n",
    "def Bsearch(nums,lower,upper,target):\n",
    "    \n",
    "    \n",
    "    while lower <= upper:\n",
    "\n",
    "        mid = int((lower + upper)/2)\n",
    "\n",
    "        print('mid-value =', mid)\n",
    " \n",
    "        if nums[mid] == target:\n",
    "#             print('equal')\n",
    "            return 'mid value=', mid\n",
    "\n",
    "        elif target > nums[mid] :\n",
    "#             print('greater')\n",
    "            lower = mid + 1\n",
    "        \n",
    "        else:\n",
    "#             print('lesser') \n",
    "            upper = mid - 1\n",
    "\n",
    "\n",
    "    return 'Number doesnot exist in the List'     \n",
    "\n",
    "    \n",
    "Bsearch([1, 2, 3, 4, 9, 40,50 ], 0, 6, 1)\n"
   ]
  },
  {
   "cell_type": "code",
   "execution_count": null,
   "metadata": {},
   "outputs": [],
   "source": []
  },
  {
   "cell_type": "code",
   "execution_count": 134,
   "metadata": {},
   "outputs": [
    {
     "name": "stdout",
     "output_type": "stream",
     "text": [
      "nums--- [4, 2, 1, 6, 5]\n",
      "left-- [4, 2] right--- [1, 6, 5]\n",
      "nums--- [4, 2]\n",
      "left-- [4] right--- [2]\n",
      "nums[k] before--- 0 --- [4, 2]\n",
      "nums[k]--- 0 ---- [2, 2]\n",
      "k---- 1\n",
      "loop 2---k--- 1\n",
      "loop 2--- [2, 4]\n",
      "nums--- [1, 6, 5]\n",
      "left-- [1] right--- [6, 5]\n",
      "nums--- [6, 5]\n",
      "left-- [6] right--- [5]\n",
      "nums[k] before--- 0 --- [6, 5]\n",
      "nums[k]--- 0 ---- [5, 5]\n",
      "k---- 1\n",
      "loop 2---k--- 1\n",
      "loop 2--- [5, 6]\n",
      "nums[k] before--- 0 --- [1, 6, 5]\n",
      "nums[k]--- 0 --- [1, 6, 5]\n",
      "k---- 1\n",
      "loop 3---k--- 1\n",
      "loop 3--- [1, 5, 5]\n",
      "1 2\n",
      "loop 3---k--- 2\n",
      "loop 3--- [1, 5, 6]\n",
      "2 3\n",
      "nums[k] before--- 0 --- [4, 2, 1, 6, 5]\n",
      "nums[k]--- 0 ---- [1, 2, 1, 6, 5]\n",
      "k---- 1\n",
      "nums[k] before--- 1 --- [1, 2, 1, 6, 5]\n",
      "nums[k]--- 1 --- [1, 2, 1, 6, 5]\n",
      "k---- 2\n",
      "nums[k] before--- 2 --- [1, 2, 1, 6, 5]\n",
      "nums[k]--- 2 --- [1, 2, 4, 6, 5]\n",
      "k---- 3\n",
      "loop 3---k--- 3\n",
      "loop 3--- [1, 2, 4, 5, 5]\n",
      "2 4\n",
      "loop 3---k--- 4\n",
      "loop 3--- [1, 2, 4, 5, 6]\n",
      "3 5\n"
     ]
    },
    {
     "data": {
      "text/plain": [
       "[1, 2, 4, 5, 6]"
      ]
     },
     "execution_count": 134,
     "metadata": {},
     "output_type": "execute_result"
    }
   ],
   "source": [
    "# Merge sort ---big O ---O(nlogn) ----- stable sort which implies --- order of same values is maintained after sort\n",
    "\n",
    "def Mergesort(nums):\n",
    "    if len(nums) > 1:\n",
    "        mid = int(len(nums)/2)\n",
    "#         print(mid)\n",
    "        left = nums[0:mid]\n",
    "        right = nums[mid:]\n",
    "        print('nums---',nums)\n",
    "        print('left--',left , 'right---',right)\n",
    "\n",
    "        Mergesort(left)\n",
    "        Mergesort(right)\n",
    "#         print(left , right)\n",
    "\n",
    "\n",
    "        i =j = k = 0\n",
    "#         print(nums)\n",
    "        while i<len(left) and j< len(right):\n",
    "#             print(len(left),left, len(right) ,right)\n",
    "#             print('before merge---',nums)\n",
    "            if left[i] < right[j]:\n",
    "                print('nums[k] before---', k , '---',nums)\n",
    "\n",
    "                nums[k] = left[i]\n",
    "                print('nums[k]---', k , '---',nums)\n",
    "#                 print('i before---',i)\n",
    "                i +=1\n",
    "#                 print('i---', i)\n",
    "            else:\n",
    "                print('nums[k] before---', k , '---',nums)\n",
    " \n",
    "                nums[k] = right[j]\n",
    "                print('nums[k]---',k, '----',nums)\n",
    "                \n",
    "                j += 1\n",
    "\n",
    "            k += 1\n",
    "            print('k----',k)\n",
    "            \n",
    "        while i < len(left): \n",
    "            nums[k] = left[i] \n",
    "            print('loop 2---k---',k)\n",
    "            print('loop 2---',nums)\n",
    "            i+=1\n",
    "            k+=1\n",
    "          \n",
    "        while j < len(right): \n",
    "            nums[k] = right[j] \n",
    "            print('loop 3---k---',k)\n",
    "            print('loop 3---',nums)\n",
    "            j+=1\n",
    "            k+=1  \n",
    "            print(j,k)\n",
    "            \n",
    "\n",
    "    return nums\n",
    "       \n",
    "    \n",
    "Mergesort([4,2,1,6,5])    "
   ]
  },
  {
   "cell_type": "code",
   "execution_count": null,
   "metadata": {},
   "outputs": [],
   "source": []
  },
  {
   "cell_type": "code",
   "execution_count": 141,
   "metadata": {},
   "outputs": [
    {
     "data": {
      "text/plain": [
       "[1, 4, 3, 8, 12, 2]"
      ]
     },
     "execution_count": 141,
     "metadata": {},
     "output_type": "execute_result"
    }
   ],
   "source": [
    "# quicksort ---- O(nlogn) ----- order of same numbers may or maynot change ---implies unstable sort...most used sort\n",
    "\n",
    "def partition(nums,lower,upper):\n",
    "    \n",
    "    pivot = nums[upper-1]\n",
    "    for i in range(0,upper):\n",
    "        if nums[i] <= pivot:\n",
    "            \n",
    "            \n",
    "    \n",
    "    \n",
    "\n",
    "\n",
    "\n",
    "\n",
    "def Quicksort(nums,lower, upper):\n",
    "    \n",
    "    if lower <= upper:\n",
    "        \n",
    "        Quicksort()\n",
    "        \n",
    "    \n",
    "    \n",
    "    \n",
    "    \n",
    "    \n",
    "    return nums\n",
    "\n",
    "\n",
    "Quicksort([1,4,3,8,12,2],0,6)\n"
   ]
  },
  {
   "cell_type": "code",
   "execution_count": null,
   "metadata": {},
   "outputs": [],
   "source": []
  },
  {
   "cell_type": "code",
   "execution_count": 173,
   "metadata": {},
   "outputs": [
    {
     "name": "stdout",
     "output_type": "stream",
     "text": [
      "[0, 7, 8, 9, 1, 5, 6, 10]\n",
      "0 7 8 9 1 5 6 10 "
     ]
    }
   ],
   "source": [
    "def partition(arr,low,high): \n",
    "    i = ( low-1 )         # index of smaller element \n",
    "    pivot = arr[high]     # pivot \n",
    "  \n",
    "    for j in range(low , high): \n",
    "        if   arr[j] <= pivot: \n",
    "          \n",
    "            i = i+1 \n",
    "#             print(i,j)\n",
    "\n",
    "            arr[i],arr[j] = arr[j],arr[i] \n",
    "#             print(arr[i] ,arr[j])\n",
    "#             print(arr,i,j)\n",
    "  \n",
    "    arr[i+1],arr[high] = arr[high],arr[i+1] \n",
    "    print(arr)\n",
    "    return ( i+1 ) \n",
    "\n",
    "\n",
    "def quickSort(arr,low,high): \n",
    "    if low < high: \n",
    "  \n",
    "        pi = partition(arr,low,high) \n",
    "  \n",
    "#         quickSort(arr, low, pi-1) \n",
    "#         quickSort(arr, pi+1, high) \n",
    "        \n",
    "arr = [10, 7, 8, 9, 1, 5,6,0] \n",
    "n = len(arr) \n",
    "quickSort(arr,0,n-1) \n",
    "for i in range(n): \n",
    "    print (\"%d\" %arr[i],end=' '),         "
   ]
  },
  {
   "cell_type": "code",
   "execution_count": null,
   "metadata": {},
   "outputs": [],
   "source": []
  }
 ],
 "metadata": {
  "kernelspec": {
   "display_name": "Python 3",
   "language": "python",
   "name": "python3"
  },
  "language_info": {
   "codemirror_mode": {
    "name": "ipython",
    "version": 3
   },
   "file_extension": ".py",
   "mimetype": "text/x-python",
   "name": "python",
   "nbconvert_exporter": "python",
   "pygments_lexer": "ipython3",
   "version": "3.7.3"
  }
 },
 "nbformat": 4,
 "nbformat_minor": 2
}
