{
 "cells": [
  {
   "cell_type": "code",
   "execution_count": 1,
   "metadata": {},
   "outputs": [
    {
     "name": "stdout",
     "output_type": "stream",
     "text": [
      "and\n",
      "ans\n",
      "and -- ans\n",
      "0 0 a a\n",
      "nd ns\n",
      "0 0 n n\n",
      "d s\n",
      "d == s\n",
      "ds ==>> 2\n",
      "-------------------------\n",
      "['Friends', 'Lovers', 'Affectionate', 'Marriage', 'Enemies', 'Siblings']\n",
      "1 ['Affectionate', 'Marriage', 'Enemies', 'Siblings', 'Friends']\n",
      "1 ['Enemies', 'Siblings', 'Friends', 'Affectionate']\n",
      "1 ['Friends', 'Affectionate', 'Enemies']\n",
      "1 ['Enemies', 'Friends']\n",
      "-1 ['Enemies']\n",
      "\n",
      " Relationship -- ['Enemies']\n"
     ]
    }
   ],
   "source": [
    "l1 = input()\n",
    "l2 = input()\n",
    "\n",
    "list1 = l1.replace(\" \",'')\n",
    "list2 = l2.replace(\" \", \"\")\n",
    "\n",
    "print(list1,'--',list2)\n",
    "\n",
    "if len(list1) ==0 and len(list2) == 0:\n",
    "    print('False')\n",
    "\n",
    "i = 0\n",
    "while i < len(list1):\n",
    "    j = 0\n",
    "    while j < len(list2):\n",
    "        if  i >= len(list1):\n",
    "            break\n",
    "\n",
    "        if list1[i] == list2[j]:\n",
    "            print(i,j, list1[i], list2[j])\n",
    "            list1 = list1[0:i] + list1[i+1:]\n",
    "            list2 = list2[0:j] + list2[j+1:]\n",
    "            print(list1, list2)\n",
    "            j = -1\n",
    "        j +=1      \n",
    "    i += 1 \n",
    "    \n",
    "print(list1,'==', list2)\n",
    "\n",
    "newlist = list1 + list2\n",
    "print(newlist, '==>>',len(newlist))\n",
    "print('-------------------------')\n",
    "\n",
    "flames = ['Friends','Lovers','Affectionate','Marriage','Enemies','Siblings']\n",
    "\n",
    "count = len(newlist)\n",
    "i = 0\n",
    "print(flames)\n",
    "while len(flames) > 1:\n",
    "    \n",
    "    k = count % len(flames) -1\n",
    "    if k >= 0:  \n",
    "        flames = flames[k+1:] + flames[0:k]\n",
    "        print(k,flames)\n",
    "        \n",
    "    else:\n",
    "        flames = flames[0:len(flames)-1]\n",
    "        print(k,flames)\n",
    "        \n",
    "print('\\n','Relationship --',flames)"
   ]
  },
  {
   "cell_type": "code",
   "execution_count": null,
   "metadata": {},
   "outputs": [],
   "source": []
  },
  {
   "cell_type": "code",
   "execution_count": null,
   "metadata": {},
   "outputs": [],
   "source": []
  }
 ],
 "metadata": {
  "kernelspec": {
   "display_name": "Python 3",
   "language": "python",
   "name": "python3"
  },
  "language_info": {
   "codemirror_mode": {
    "name": "ipython",
    "version": 3
   },
   "file_extension": ".py",
   "mimetype": "text/x-python",
   "name": "python",
   "nbconvert_exporter": "python",
   "pygments_lexer": "ipython3",
   "version": "3.7.3"
  }
 },
 "nbformat": 4,
 "nbformat_minor": 2
}
