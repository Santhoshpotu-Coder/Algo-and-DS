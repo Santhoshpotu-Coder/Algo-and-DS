{
 "cells": [
  {
   "cell_type": "code",
   "execution_count": 5,
   "metadata": {},
   "outputs": [
    {
     "name": "stdout",
     "output_type": "stream",
     "text": [
      "[1, 2, 3] ::>> 6\n",
      "[1, 5] ::>> 6\n",
      "[2, 4] ::>> 6\n"
     ]
    }
   ],
   "source": [
    "#all subarrays (subsequence) sum equals K\n",
    "\n",
    "def arr_sum(arr,target,temp):\n",
    "    #print(temp,'arr:', arr)\n",
    "    s = sum(temp)\n",
    "    if s == target:\n",
    "        print(temp,'::>>', target)\n",
    "        \n",
    "\n",
    "    for i in range(0,len(arr)):\n",
    "        n = arr[i]\n",
    "        #print([n],'------')\n",
    "        #temp += [n]\n",
    "        #print(temp,'------')\n",
    "        arr_sum( arr[i+1:], target, temp+[n] )\n",
    "           \n",
    "\n",
    "array = [1,2,3,4,5]\n",
    "target = 6\n",
    "temp = []\n",
    "\n",
    "arr_sum(array,target,temp)\n"
   ]
  },
  {
   "cell_type": "code",
   "execution_count": null,
   "metadata": {},
   "outputs": [],
   "source": []
  },
  {
   "cell_type": "code",
   "execution_count": 45,
   "metadata": {},
   "outputs": [
    {
     "name": "stdout",
     "output_type": "stream",
     "text": [
      "1\n",
      "0\n",
      "1\n"
     ]
    },
    {
     "data": {
      "text/plain": [
       "1"
      ]
     },
     "execution_count": 45,
     "metadata": {},
     "output_type": "execute_result"
    }
   ],
   "source": [
    "#all (subsequence) sum equals K using recursion --- O(2^n)\n",
    "\n",
    "def subsetSumToK(arr,i, k):\n",
    "    #print('000')\n",
    "    if k == 0 :\n",
    "        return 1\n",
    "    if k<0:\n",
    "        return 0 \n",
    "    if i >= len(arr):\n",
    "        return 0 \n",
    "    \n",
    "    x  = subsetSumToK(arr,i+1, k) + subsetSumToK(arr, i+1, k-arr[i])\n",
    "    print(x)\n",
    "    return x\n",
    "    \n",
    "arr = [1,2]\n",
    "#n = len(arr)-1\n",
    "i= 0\n",
    "k = 2\n",
    "subsetSumToK(arr, i, k)    "
   ]
  },
  {
   "cell_type": "code",
   "execution_count": 2,
   "metadata": {},
   "outputs": [
    {
     "name": "stdout",
     "output_type": "stream",
     "text": [
      "{}\n",
      "{'2:3': 1}\n",
      "{'2:3': 1, '2:1': 0}\n",
      "{'2:3': 1, '2:1': 0, '1:3': 1}\n",
      "{'2:3': 1, '2:1': 0, '1:3': 1, '2:2': 0}\n",
      "{'2:3': 1, '2:1': 0, '1:3': 1, '2:2': 0, '1:2': 1}\n"
     ]
    },
    {
     "data": {
      "text/plain": [
       "2"
      ]
     },
     "execution_count": 2,
     "metadata": {},
     "output_type": "execute_result"
    }
   ],
   "source": [
    "#all (subsequence) sum equals K using DP  --- Topdown Approach\n",
    "\n",
    "def subsetSumToK(arr,i, k,mem):\n",
    "    key= str(i)+':'+str(k)\n",
    "    if key in mem:\n",
    "        return mem[key]\n",
    "    if k == 0 :\n",
    "        return 1\n",
    "    if k<0:\n",
    "        return 0 \n",
    "    if i >= len(arr):\n",
    "        return 0 \n",
    "    \n",
    "    x  = subsetSumToK(arr,i+1, k,mem) + subsetSumToK(arr, i+1, k-arr[i],mem)\n",
    "    print(mem)\n",
    "    mem[key] = x\n",
    "    return mem[key]\n",
    "    \n",
    "arr = [1,2,3]\n",
    "#n = len(arr)-1\n",
    "i= 0\n",
    "k = 3\n",
    "mem = {}\n",
    "subsetSumToK(arr, i, k,mem)    \n",
    "\n",
    "#print(mem)"
   ]
  },
  {
   "cell_type": "code",
   "execution_count": null,
   "metadata": {},
   "outputs": [],
   "source": []
  },
  {
   "cell_type": "code",
   "execution_count": 7,
   "metadata": {},
   "outputs": [
    {
     "name": "stdout",
     "output_type": "stream",
     "text": [
      "[[0, 0, 0, 0, 0, 0, 0], [0, 0, 0, 0, 0, 0, 0], [0, 0, 0, 0, 0, 0, 0], [0, 0, 0, 0, 0, 0, 0], [0, 0, 0, 0, 0, 0, 0], [0, 0, 0, 0, 0, 0, 0]]\n",
      "3 ----\n",
      "1 2 3 \n",
      "1 5 \n",
      "2 4 \n"
     ]
    }
   ],
   "source": [
    "#all (subsequence) sum equals K using DP  --- Bottom-Up\n",
    "\n",
    "def subsetSumToK(arr, n, output, k):\n",
    "      \n",
    "    # Base Case\n",
    "    if (n == 0):\n",
    "        if (k == 0):\n",
    "            output[0][0] = 0;\n",
    "            return 1;\n",
    "        else:\n",
    "            return 0;\n",
    "      \n",
    "    # Array to store the subsequences\n",
    "    # which includes the element arr[0]   \n",
    "    output1 = [[0 for j in range(50)] for i in range(1000)]\n",
    "      \n",
    "    # Array to store the subsequences\n",
    "    # which not includes the element arr[0]\n",
    "    output2 = [[0 for j in range(50)] for i in range(1000)]\n",
    "      \n",
    "    # Recursive call to find the subsequences\n",
    "    # which includes the element arr[0]\n",
    "    size1 = subsetSumToK(arr[1:], n - 1, output1, k - arr[0]);\n",
    "      \n",
    "    # Recursive call to find the subsequences\n",
    "    # which not includes the element arr[0]\n",
    "    size2 = subsetSumToK(arr[1:], n - 1, output2, k)\n",
    "      \n",
    "    # Loop to update the results of the\n",
    "    # Recursive call of the function\n",
    "    for i in range(size1):\n",
    "          \n",
    "        # Incremeing the length of\n",
    "        # jagged array because it includes\n",
    "        # the arr[0] element of the array\n",
    "        output[i][0] = output1[i][0] + 1;\n",
    "          \n",
    "        # In the first column of the jagged\n",
    "        # array put the arr[0] element\n",
    "        output[i][1] = arr[0];\n",
    "      \n",
    "    # Loop to update the subsequence\n",
    "    # in the output array\n",
    "    for i in range(size1):\n",
    "        for j in range(1, output1[i][0]+1):  \n",
    "            output[i][j + 1] = output1[i][j];\n",
    "      \n",
    "    # Loop to update the subsequences\n",
    "    # which do not include the arr[0] element\n",
    "    for i in range(size2):\n",
    "        for j in range(output2[i][0] + 1):\n",
    "            output[i + size1][j] = output2[i][j];\n",
    "      \n",
    "    return size1 + size2;\n",
    " \n",
    "# Function to find the subsequences\n",
    "# whose sum of the element is K\n",
    "def countSubsequences(arr, n, output, k):\n",
    "    size = subsetSumToK(arr, n, output, k);\n",
    "    print(size,'----')\n",
    "    for i in range(size):    \n",
    "        for j in range(1, output[i][0] + 1):\n",
    "            print(output[i][j], end = ' ')\n",
    "        print()\n",
    "         \n",
    "# Driver Code\n",
    "if __name__=='__main__':\n",
    " \n",
    "    #arr = [5, 12, 3, 17, 1, 18, 15, 3, 17]\n",
    "    arr = [1,2,3,4,5]\n",
    "    length = len(arr)\n",
    "    k = 6\n",
    "    output = [[0 for j in range(k+1)] for i in range(len(arr)+1)]\n",
    "    k = 6\n",
    "    \n",
    "    print(output)\n",
    "    \n",
    "    countSubsequences(arr, length, output, k);\n",
    " "
   ]
  },
  {
   "cell_type": "code",
   "execution_count": null,
   "metadata": {},
   "outputs": [],
   "source": []
  },
  {
   "cell_type": "code",
   "execution_count": 6,
   "metadata": {},
   "outputs": [
    {
     "name": "stdout",
     "output_type": "stream",
     "text": [
      "[0]\n",
      "[1]\n",
      "[2]\n",
      "[2]\n",
      "[2]\n"
     ]
    }
   ],
   "source": [
    "arr = [0]\n",
    "#arr  = 0\n",
    "def arrtest(n):\n",
    "    print(n)\n",
    "    if n[0] == 2:\n",
    "        return\n",
    "    n[0] = n[0] + 1\n",
    "    arrtest(n)\n",
    "    arrtest(n)\n",
    "\n",
    "arrtest([0])"
   ]
  },
  {
   "cell_type": "code",
   "execution_count": null,
   "metadata": {},
   "outputs": [],
   "source": []
  },
  {
   "cell_type": "code",
   "execution_count": 74,
   "metadata": {},
   "outputs": [],
   "source": [
    "def func(k,arr):\n",
    "    for i in range(0,len(arr)):\n",
    "        arr.append(arr[0])\n",
    "        print(arr[0])\n",
    "        print('9000',k)\n",
    "        func(k)\n",
    "\n",
    "array = []        \n",
    "func(100,array)"
   ]
  },
  {
   "cell_type": "code",
   "execution_count": 112,
   "metadata": {},
   "outputs": [
    {
     "name": "stdout",
     "output_type": "stream",
     "text": [
      "None\n",
      "[]\n"
     ]
    }
   ],
   "source": []
  },
  {
   "cell_type": "code",
   "execution_count": 4,
   "metadata": {},
   "outputs": [
    {
     "data": {
      "text/plain": [
       "5"
      ]
     },
     "execution_count": 4,
     "metadata": {},
     "output_type": "execute_result"
    }
   ],
   "source": [
    "#max subarray continuous  -- O(n^2)\n",
    "\n",
    "def max_subarray(arr,n):\n",
    "    temp = float('-inf') \n",
    "    for i in range(0,n):\n",
    "        sum = 0\n",
    "        for j in range(i,n):\n",
    "            sum += arr[j]\n",
    "            temp = max(temp,sum)\n",
    "            \n",
    "    return temp\n",
    "\n",
    "array = [-11,5,-3,3]              \n",
    "n = len(array)\n",
    "max_subarray(array,n)\n"
   ]
  },
  {
   "cell_type": "code",
   "execution_count": null,
   "metadata": {},
   "outputs": [],
   "source": []
  },
  {
   "cell_type": "code",
   "execution_count": 155,
   "metadata": {},
   "outputs": [
    {
     "data": {
      "text/plain": [
       "1"
      ]
     },
     "execution_count": 155,
     "metadata": {},
     "output_type": "execute_result"
    }
   ],
   "source": [
    "#continuous subarray sum =k  --- O(n^2) -- count\n",
    "\n",
    "def cont_subarray(arr,target):\n",
    "    count = 0\n",
    "    for i in range(0,len(arr)):\n",
    "        total = 0\n",
    "        for j in range(i,len(arr)):\n",
    "            total += arr[j]\n",
    "            #print(total)\n",
    "            if total == target:\n",
    "                count += 1\n",
    "                \n",
    "    return count\n",
    "        \n",
    "    \n",
    "cont_subarray([1,2,3,4],4) \n"
   ]
  },
  {
   "cell_type": "code",
   "execution_count": null,
   "metadata": {},
   "outputs": [],
   "source": []
  },
  {
   "cell_type": "code",
   "execution_count": 10,
   "metadata": {},
   "outputs": [
    {
     "name": "stdout",
     "output_type": "stream",
     "text": [
      "{1: 1} 0 ---\n",
      "{1: 1, 3: 1} 0 ---\n",
      "{1: 1, 3: 1, 6: 1} 0 ---\n",
      "{1: 1, 3: 1, 6: 1, 10: 1} 0 ---\n",
      "{1: 1, 3: 1, 6: 1, 10: 1, 15: 1} 1 ---\n",
      "{1: 1, 3: 1, 6: 1, 10: 1, 15: 1, 25: 1} 2 ---\n"
     ]
    },
    {
     "data": {
      "text/plain": [
       "2"
      ]
     },
     "execution_count": 10,
     "metadata": {},
     "output_type": "execute_result"
    }
   ],
   "source": [
    "#continuous subarray sum =k  --- optimized\n",
    "\n",
    "def cont_subarray(arr,target):\n",
    "    temp = {}\n",
    "    sum = 0\n",
    "    count = 0\n",
    "    for i in range(0,len(arr)):\n",
    "        sum += arr[i]\n",
    "        temp[sum] = 1\n",
    "        if sum == target:\n",
    "            count += 1\n",
    "        if sum-target in temp:\n",
    "            count += temp[sum-target]\n",
    "\n",
    "        print(temp,count, '---')\n",
    "\n",
    "        \n",
    "    return count\n",
    "\n",
    "array = [1,2,3,4,5,10]\n",
    "cont_subarray(array,15)\n"
   ]
  },
  {
   "cell_type": "code",
   "execution_count": null,
   "metadata": {},
   "outputs": [],
   "source": []
  },
  {
   "cell_type": "code",
   "execution_count": 171,
   "metadata": {},
   "outputs": [
    {
     "name": "stdout",
     "output_type": "stream",
     "text": [
      "[1]\n",
      "[1, 2]\n"
     ]
    },
    {
     "data": {
      "text/plain": [
       "2"
      ]
     },
     "execution_count": 171,
     "metadata": {},
     "output_type": "execute_result"
    }
   ],
   "source": [
    "#two number sum\n",
    "\n",
    "def two_sum(arr,sum):\n",
    "    count = 0\n",
    "    temp = []\n",
    "    for i in range(0,len(arr)):\n",
    "        if sum - arr[i] in temp:\n",
    "            count += 1\n",
    "        else:\n",
    "            temp.append(arr[i])\n",
    "            print(temp)\n",
    "    \n",
    "    return count\n",
    "    \n",
    "two_sum([1,2,3,4],5)"
   ]
  },
  {
   "cell_type": "code",
   "execution_count": null,
   "metadata": {},
   "outputs": [],
   "source": []
  },
  {
   "cell_type": "code",
   "execution_count": 10,
   "metadata": {},
   "outputs": [
    {
     "data": {
      "text/plain": [
       "65"
      ]
     },
     "execution_count": 10,
     "metadata": {},
     "output_type": "execute_result"
    }
   ],
   "source": [
    "#rod_cutting problem   --- O(2^n)\n",
    "\n",
    "def rod_cut(arr,n):\n",
    "    if n<=0:\n",
    "        return 0\n",
    "    temp = float('-inf')\n",
    "    for i in range(0,n):\n",
    "        temp = max(temp, arr[i] + rod_cut(arr,n-i-1)) \n",
    "        \n",
    "    return temp\n",
    "           \n",
    "array= [13,15,30,45,50]\n",
    "n = len(array)  #5\n",
    "\n",
    "rod_cut(array,n)\n"
   ]
  },
  {
   "cell_type": "code",
   "execution_count": 15,
   "metadata": {},
   "outputs": [
    {
     "name": "stdout",
     "output_type": "stream",
     "text": [
      "{1: 10}\n",
      "{1: 10, 2: 20}\n",
      "{1: 10, 2: 20, 3: 30}\n",
      "{1: 10, 2: 20, 3: 30, 4: 45}\n",
      "{1: 10, 2: 20, 3: 30, 4: 45, 5: 55}\n"
     ]
    },
    {
     "data": {
      "text/plain": [
       "55"
      ]
     },
     "execution_count": 15,
     "metadata": {},
     "output_type": "execute_result"
    }
   ],
   "source": [
    "#rod_cutting problem   --- O(n^2) --- Topdown Approach\n",
    "\n",
    "def rod_cut(arr,n,mem):\n",
    "    if n in mem:\n",
    "        return mem[n]\n",
    "    if n<=0:\n",
    "        return 0\n",
    "    temp = float('-inf')\n",
    "    for i in range(0,n):\n",
    "        temp = max(temp, arr[i] + rod_cut(arr,n-i-1,mem)) \n",
    "    mem[n] = temp\n",
    "    print(mem)\n",
    "    return mem[n]\n",
    "           \n",
    "array= [10,12,20,45,50]\n",
    "n = len(array)  #5\n",
    "mem={}\n",
    "rod_cut(array,n,mem)"
   ]
  },
  {
   "cell_type": "code",
   "execution_count": null,
   "metadata": {},
   "outputs": [],
   "source": []
  },
  {
   "cell_type": "code",
   "execution_count": 48,
   "metadata": {},
   "outputs": [
    {
     "name": "stdout",
     "output_type": "stream",
     "text": [
      "[0, 2, 5, 7] \n",
      "\n",
      "Maximum Obtainable Value is 7\n"
     ]
    }
   ],
   "source": [
    "#Dynamic Programming using Bottom-up approach -- O(n^2)\n",
    "\n",
    "def cutRod(arr, n):\n",
    "    val = [0 for x in range(n+1)]\n",
    " \n",
    "    for i in range(1, n+1):\n",
    "        max_val = float('-inf')\n",
    "        for j in range(0,i):\n",
    "             max_val = max(max_val, arr[j] + val[i-j-1])\n",
    "        val[i] = max_val\n",
    "    print(val,'\\n')\n",
    "    return val[n]\n",
    " \n",
    "#arr = [2, 5, 8, 9, 10, 17, 17, 20]\n",
    "arr = [2,5,6]\n",
    "size = len(arr)\n",
    "print(\"Maximum Obtainable Value is \" + str(cutRod(arr, size)))"
   ]
  },
  {
   "cell_type": "code",
   "execution_count": null,
   "metadata": {},
   "outputs": [],
   "source": []
  },
  {
   "cell_type": "code",
   "execution_count": 5,
   "metadata": {},
   "outputs": [
    {
     "name": "stdout",
     "output_type": "stream",
     "text": [
      "0\n",
      "1\n",
      "2\n"
     ]
    }
   ],
   "source": [
    "def loop_test(n):\n",
    "    i = 0\n",
    "    while i<n:\n",
    "        print(i)\n",
    "        i += 1\n",
    "loop_test(3)"
   ]
  },
  {
   "cell_type": "code",
   "execution_count": 23,
   "metadata": {},
   "outputs": [
    {
     "data": {
      "text/plain": [
       "'palindrome'"
      ]
     },
     "execution_count": 23,
     "metadata": {},
     "output_type": "execute_result"
    }
   ],
   "source": [
    "arr = [1,2,3,2,1]\n",
    "n= len(arr)\n",
    "\n",
    "def list_pali(arr,n):\n",
    "    for i in range(n):\n",
    "        if arr[i] != arr[n-1-i]:\n",
    "            return 'not palindrome'\n",
    "                    \n",
    "    return 'palindrome'\n",
    "\n",
    "list_pali(arr,n)"
   ]
  },
  {
   "cell_type": "code",
   "execution_count": null,
   "metadata": {},
   "outputs": [],
   "source": []
  }
 ],
 "metadata": {
  "kernelspec": {
   "display_name": "Python 3",
   "language": "python",
   "name": "python3"
  },
  "language_info": {
   "codemirror_mode": {
    "name": "ipython",
    "version": 3
   },
   "file_extension": ".py",
   "mimetype": "text/x-python",
   "name": "python",
   "nbconvert_exporter": "python",
   "pygments_lexer": "ipython3",
   "version": "3.7.3"
  }
 },
 "nbformat": 4,
 "nbformat_minor": 2
}
