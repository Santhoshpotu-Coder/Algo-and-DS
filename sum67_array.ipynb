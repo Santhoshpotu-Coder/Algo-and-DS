{
 "cells": [
  {
   "cell_type": "code",
   "execution_count": 122,
   "metadata": {},
   "outputs": [
    {
     "data": {
      "text/plain": [
       "False"
      ]
     },
     "execution_count": 122,
     "metadata": {},
     "output_type": "execute_result"
    }
   ],
   "source": [
    "# array = [6,10,1,2,4]\n",
    "# result = 0\n",
    "# for i in range(len(array)):\n",
    "#     result += array[i]\n",
    "#     if result == 16:\n",
    "#         print(result)\n",
    "\n",
    "# print(array[i])\n",
    "def strings(str):    \n",
    "    string = 'potusan'\n",
    "# for i  in range(len(string)-2):\n",
    "#     if string[i:i+3] == 'san':\n",
    "#         print(True)\n",
    "\n",
    "    if str in string:\n",
    "#         print('yes')\n",
    "        return True\n",
    "# else:\n",
    "#     print('no')\n",
    "    return False\n",
    "        \n",
    "\n",
    "strings('sant')\n",
    "\n"
   ]
  },
  {
   "cell_type": "code",
   "execution_count": 128,
   "metadata": {},
   "outputs": [
    {
     "name": "stdout",
     "output_type": "stream",
     "text": [
      "18\n"
     ]
    }
   ],
   "source": [
    "array = [1,2,4,5,6]\n",
    "print(sum(array) )\n"
   ]
  },
  {
   "cell_type": "code",
   "execution_count": 115,
   "metadata": {},
   "outputs": [
    {
     "name": "stdout",
     "output_type": "stream",
     "text": [
      "2019\n"
     ]
    }
   ],
   "source": [
    "class Test:\n",
    "    def __init__(self,name,number):\n",
    "        self.fullname = name\n",
    "        self.age = number\n",
    "    def superman(self):\n",
    "        return self.fullname + ' --- ' +self.age\n",
    "\n",
    "class Testsub(Test): \n",
    "    def __init__(self,name,year):\n",
    "        super().__init__(name,year)\n",
    "        self.marks = year\n",
    "        \n",
    "    def superman(self):\n",
    "        return self.age\n",
    "\n",
    "test1 = Testsub('reddy',2019)\n",
    "# print(test1.marks)\n",
    "print(test1.superman() )\n",
    "# print(test1.testing() )\n",
    "      "
   ]
  },
  {
   "cell_type": "code",
   "execution_count": 123,
   "metadata": {},
   "outputs": [
    {
     "data": {
      "text/plain": [
       "('b', '123')"
      ]
     },
     "execution_count": 123,
     "metadata": {},
     "output_type": "execute_result"
    }
   ],
   "source": [
    "import re\n",
    "\n",
    "def convert(s):\n",
    "    res = re.sub(r'([A-Z])([a-z]+)',r'\\2\\1', s)\n",
    "    return res\n",
    "\n",
    "m = re.search('(\\w)(\\d+)','ab123')\n",
    "# print(m)\n",
    "m.groups()\n",
    "# m.group(2)\n",
    "\n",
    "# pattern = '(?P<year>\\d{4})-(?P<month>\\d{2})-(?P<day>\\d{2})'\n",
    "# m = re.search(pattern, '2016-01-01')\n",
    "# m.group('year')\n",
    "# m.groups()\n",
    "\n"
   ]
  },
  {
   "cell_type": "code",
   "execution_count": 1,
   "metadata": {},
   "outputs": [
    {
     "ename": "NameError",
     "evalue": "name 'convert' is not defined",
     "output_type": "error",
     "traceback": [
      "\u001b[1;31m---------------------------------------------------------------------------\u001b[0m",
      "\u001b[1;31mNameError\u001b[0m                                 Traceback (most recent call last)",
      "\u001b[1;32m<ipython-input-1-016438cad8d7>\u001b[0m in \u001b[0;36m<module>\u001b[1;34m\u001b[0m\n\u001b[1;32m----> 1\u001b[1;33m \u001b[0mconvert\u001b[0m\u001b[1;33m(\u001b[0m\u001b[1;34m'PamesCase'\u001b[0m\u001b[1;33m)\u001b[0m\u001b[1;33m\u001b[0m\u001b[1;33m\u001b[0m\u001b[0m\n\u001b[0m",
      "\u001b[1;31mNameError\u001b[0m: name 'convert' is not defined"
     ]
    }
   ],
   "source": [
    "convert('PamesCase')"
   ]
  },
  {
   "cell_type": "code",
   "execution_count": 3,
   "metadata": {},
   "outputs": [],
   "source": [
    "def palindrome(num):\n",
    "#     print(len(str(num)))\n",
    "    \n",
    "    num10 = int(num%10)\n",
    "    num0 = int(num/10)\n",
    "    new_num = 10*num10 + num0\n",
    "#     print(new_num)\n",
    "\n",
    "    if num == new_num:\n",
    "        return True, len(str(num))\n",
    "#     else:\n",
    "    print('dfgh')\n",
    "    return False\n",
    "        \n",
    "        \n",
    "    "
   ]
  },
  {
   "cell_type": "code",
   "execution_count": 5,
   "metadata": {},
   "outputs": [
    {
     "name": "stdout",
     "output_type": "stream",
     "text": [
      "dfgh\n"
     ]
    },
    {
     "data": {
      "text/plain": [
       "False"
      ]
     },
     "execution_count": 5,
     "metadata": {},
     "output_type": "execute_result"
    }
   ],
   "source": [
    "palindrome(222)"
   ]
  },
  {
   "cell_type": "code",
   "execution_count": 120,
   "metadata": {},
   "outputs": [
    {
     "name": "stdout",
     "output_type": "stream",
     "text": [
      "max 1\n",
      "min 2\n",
      "min 3\n"
     ]
    },
    {
     "data": {
      "text/plain": [
       "(13, 3)"
      ]
     },
     "execution_count": 120,
     "metadata": {},
     "output_type": "execute_result"
    }
   ],
   "source": [
    "def maxima(nums):\n",
    "    maxima = nums[0]\n",
    "    minima = nums[0]\n",
    "    for i in range(1,len(nums)):\n",
    "        if  nums[i] > maxima:\n",
    "            print('max',i)\n",
    "            maxima = nums[i]\n",
    "#             print(maxima)\n",
    "            \n",
    "        if nums[i] < minima:\n",
    "            print('min',i)\n",
    "            minima = nums[i]\n",
    "#             print(minima)\n",
    "            \n",
    "    return maxima,minima\n",
    "\n",
    "maxima([11,13,10,3])"
   ]
  },
  {
   "cell_type": "code",
   "execution_count": 127,
   "metadata": {},
   "outputs": [
    {
     "name": "stdout",
     "output_type": "stream",
     "text": [
      "reddy\n",
      "20\n"
     ]
    }
   ],
   "source": [
    "class Test:\n",
    "    def __init__(potu,name,number):\n",
    "        potu.fullname = name\n",
    "        potu.age = number\n",
    "    def superman(self):\n",
    "        return self.fullname \n",
    "\n",
    "test1 = Test('reddy',20)\n",
    "\n",
    "print(test1.superman())\n",
    "print(test1.age)\n"
   ]
  },
  {
   "cell_type": "code",
   "execution_count": 8,
   "metadata": {},
   "outputs": [
    {
     "data": {
      "text/plain": [
       "0"
      ]
     },
     "execution_count": 8,
     "metadata": {},
     "output_type": "execute_result"
    }
   ],
   "source": [
    "def array67(nums):\n",
    "    found = False\n",
    "    result = 0\n",
    "    for x in nums:\n",
    "        if x == 6:\n",
    "            found = True\n",
    "        if x== 7 and found  == True:\n",
    "            found = False\n",
    "            continue\n",
    "        if found == False: \n",
    "            result += x \n",
    "    return result\n",
    "\n",
    "array67([6,1,6,9,2,7,1])"
   ]
  },
  {
   "cell_type": "code",
   "execution_count": null,
   "metadata": {},
   "outputs": [],
   "source": []
  },
  {
   "cell_type": "code",
   "execution_count": 13,
   "metadata": {},
   "outputs": [
    {
     "name": "stdout",
     "output_type": "stream",
     "text": [
      "[1, 0, 0, 0, 0, 0, 0, 1]\n"
     ]
    },
    {
     "data": {
      "text/plain": [
       "2"
      ]
     },
     "execution_count": 13,
     "metadata": {},
     "output_type": "execute_result"
    }
   ],
   "source": [
    "# time complexity is Big-O --- O(n)\n",
    "\n",
    "def sum67(nums):\n",
    "    result = 0\n",
    "    #count = 0\n",
    "    #count1 = 0\n",
    "    for i in range(0, len(nums)):\n",
    "#         print('1 loop')\n",
    "        if nums[i] == 6:\n",
    "            for j in range(i+1, len(nums)):\n",
    "                #count += 1 \n",
    "                #print('2 loop')\n",
    "                if nums[j] == 7:\n",
    "                    for k in range(i,j+1):\n",
    "                        #count1 += 1\n",
    "                        #print('3 loop') \n",
    "                        nums[k]=0\n",
    "                    break\n",
    "\n",
    "        result += nums[i]     \n",
    "    #print('count--',count)   \n",
    "    #print('count1--',count1)    \n",
    "\n",
    "    print(nums)\n",
    "    return result\n",
    "\n",
    "sum67([1,6,1,6,1,1,7,1])"
   ]
  },
  {
   "cell_type": "code",
   "execution_count": null,
   "metadata": {},
   "outputs": [],
   "source": []
  },
  {
   "cell_type": "code",
   "execution_count": 6,
   "metadata": {},
   "outputs": [
    {
     "data": {
      "text/plain": [
       "9"
      ]
     },
     "execution_count": 6,
     "metadata": {},
     "output_type": "execute_result"
    }
   ],
   "source": [
    "#using while loop we have reduced len(nums) iterations from len(num) to len(num)-k [k = numbers from 6 to 7]\n",
    "\n",
    "def sum67(nums):\n",
    "    result = 0\n",
    "    i =0\n",
    "    while i < len(nums):\n",
    "        if nums[i] == 6:\n",
    "            for j in range(i+1, len(nums)):\n",
    "                if nums[j] == 7:\n",
    "                    i = j+1 \n",
    "                    break\n",
    "        if i == len(nums):\n",
    "            break\n",
    "        result += nums[i]  \n",
    "        i = i+1\n",
    "\n",
    "    #print(nums)\n",
    "    return result\n",
    "\n",
    "sum67([1,6,1,6,7,1,7])"
   ]
  },
  {
   "cell_type": "code",
   "execution_count": null,
   "metadata": {},
   "outputs": [],
   "source": []
  },
  {
   "cell_type": "code",
   "execution_count": 31,
   "metadata": {
    "scrolled": true
   },
   "outputs": [],
   "source": [
    "#Bubble sort\n",
    "\n",
    "def sorting(nums):\n",
    "    for i in range(len(nums)-1):\n",
    "        for j in range(i,len(nums)):\n",
    "            if nums[i] > nums[j]:\n",
    "                nums[i],nums[j] = nums[j], nums[i]\n",
    "                #print(nums)\n",
    "           \n",
    "    return nums           \n",
    "                \n",
    "                \n",
    "    "
   ]
  },
  {
   "cell_type": "code",
   "execution_count": 32,
   "metadata": {},
   "outputs": [
    {
     "data": {
      "text/plain": [
       "[0, 3, 10, 21, 100]"
      ]
     },
     "execution_count": 32,
     "metadata": {},
     "output_type": "execute_result"
    }
   ],
   "source": [
    "sorting([100,10,21,3,0])                \n"
   ]
  },
  {
   "cell_type": "code",
   "execution_count": null,
   "metadata": {},
   "outputs": [],
   "source": []
  },
  {
   "cell_type": "code",
   "execution_count": 39,
   "metadata": {},
   "outputs": [
    {
     "data": {
      "text/plain": [
       "120"
      ]
     },
     "execution_count": 39,
     "metadata": {},
     "output_type": "execute_result"
    }
   ],
   "source": [
    "def factorial(n):\n",
    "    array = [0]*(n+1)\n",
    "    array[1] = 1\n",
    "    for i in range(2,n+1):\n",
    "        array[i] = i*array[i-1]\n",
    "        \n",
    "    return array[n]\n",
    "    \n",
    "factorial(5)"
   ]
  },
  {
   "cell_type": "code",
   "execution_count": null,
   "metadata": {},
   "outputs": [],
   "source": []
  },
  {
   "cell_type": "code",
   "execution_count": null,
   "metadata": {},
   "outputs": [],
   "source": []
  },
  {
   "cell_type": "code",
   "execution_count": 2,
   "metadata": {},
   "outputs": [
    {
     "name": "stdout",
     "output_type": "stream",
     "text": [
      "4\n",
      "3\n",
      "2\n",
      "1\n"
     ]
    },
    {
     "data": {
      "text/plain": [
       "24"
      ]
     },
     "execution_count": 2,
     "metadata": {},
     "output_type": "execute_result"
    }
   ],
   "source": [
    "def facto(n):\n",
    "    print(n)\n",
    "    if n==1:\n",
    "        return 1\n",
    "    return n*facto(n-1)\n",
    "facto(4)"
   ]
  },
  {
   "cell_type": "code",
   "execution_count": null,
   "metadata": {},
   "outputs": [],
   "source": []
  },
  {
   "cell_type": "code",
   "execution_count": null,
   "metadata": {},
   "outputs": [],
   "source": []
  },
  {
   "cell_type": "code",
   "execution_count": 5,
   "metadata": {},
   "outputs": [
    {
     "data": {
      "text/plain": [
       "55"
      ]
     },
     "execution_count": 5,
     "metadata": {},
     "output_type": "execute_result"
    }
   ],
   "source": [
    "def fib(n):\n",
    "#     print(n)\n",
    "    array = [0]*n\n",
    "#     if n==1 or n==2:\n",
    "#         return 1\n",
    "    array[0] = 1\n",
    "    array[1] = 1\n",
    "    for i in range(2,n):\n",
    "        array[i] = array[i-1] + array[i-2] \n",
    "    return array[n-1]\n",
    "\n",
    "fib(10)       "
   ]
  },
  {
   "cell_type": "code",
   "execution_count": null,
   "metadata": {},
   "outputs": [],
   "source": [
    "def fibo(n):\n",
    "    if n==1 or n==2: \n",
    "        return 1   \n",
    "    return fibo(n-1) + fibo(n-2)\n",
    "\n",
    "fibo(100)"
   ]
  },
  {
   "cell_type": "code",
   "execution_count": null,
   "metadata": {},
   "outputs": [],
   "source": []
  }
 ],
 "metadata": {
  "kernelspec": {
   "display_name": "Python 3",
   "language": "python",
   "name": "python3"
  },
  "language_info": {
   "codemirror_mode": {
    "name": "ipython",
    "version": 3
   },
   "file_extension": ".py",
   "mimetype": "text/x-python",
   "name": "python",
   "nbconvert_exporter": "python",
   "pygments_lexer": "ipython3",
   "version": "3.7.3"
  }
 },
 "nbformat": 4,
 "nbformat_minor": 2
}
